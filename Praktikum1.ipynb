{
 "cells": [
  {
   "cell_type": "markdown",
   "id": "41942ccc",
   "metadata": {},
   "source": [
    "Variabel dan Tipe Data\n",
    "a. Buat 3 variabel bertipe data: int, float, str, dan list.\n",
    "b. Tampilkan tipe datanya dengan fungsi type()."
   ]
  },
  {
   "cell_type": "code",
   "execution_count": 5,
   "id": "a47fc35f",
   "metadata": {},
   "outputs": [
    {
     "name": "stdout",
     "output_type": "stream",
     "text": [
      "type a adalah <class 'int'> yang berisi 3\n",
      "b merupakan tipe data <class 'str'> yang berisi Halo\n",
      "c merupakan tipe data <class 'float'> yang berisi 170.5\n"
     ]
    }
   ],
   "source": [
    "a = 3 \n",
    "print (\"type a adalah\", type (a), \"yang berisi\", a)\n",
    "\n",
    "b = \"Halo\"\n",
    "print (\"b merupakan tipe data\", type (b), \"yang berisi\", b )\n",
    "\n",
    "c = 170.5\n",
    "print (\"c merupakan tipe data\", type (c), \"yang berisi\", c )\n",
    "\n"
   ]
  },
  {
   "cell_type": "markdown",
   "id": "c84c4317",
   "metadata": {},
   "source": [
    "2. List dan Manipulasi\n",
    "a. Buat list belanja (beras, minyak, dan telur).\n",
    "b. Kemudian tambahkan item gula dan kopi menggunakan\n",
    "fungsi.\n",
    "c. Tampilkan semua item dengan perulangan."
   ]
  },
  {
   "cell_type": "code",
   "execution_count": 7,
   "id": "ed278ff9",
   "metadata": {},
   "outputs": [
    {
     "name": "stdout",
     "output_type": "stream",
     "text": [
      "Beras\n",
      "Minyak\n",
      "Telur\n",
      "Gula\n",
      "Kopi\n"
     ]
    }
   ],
   "source": [
    "List = [\"Beras\", \"Minyak\", \"Telur\"]\n",
    "\n",
    "List.append (\"Gula\")\n",
    "List.append (\"Kopi\")\n",
    "\n",
    "for Keseluruhan  in List :\n",
    "    print (Keseluruhan) "
   ]
  },
  {
   "cell_type": "markdown",
   "id": "76f1effc",
   "metadata": {},
   "source": [
    "3. Dictionary\n",
    "a. Buat dictionary harga belanjaan:\n",
    "i. beras: 12.000\n",
    "ii. minyak: 17.000\n",
    "iii. telur: 24.000\n",
    "iv. gula:15.000\n",
    "v. kopi:20.000\n",
    "b. Hitung dan tampilkan total harga semua belanjaan."
   ]
  },
  {
   "cell_type": "code",
   "execution_count": 8,
   "id": "06d99464",
   "metadata": {},
   "outputs": [
    {
     "name": "stdout",
     "output_type": "stream",
     "text": [
      "88000\n"
     ]
    }
   ],
   "source": [
    "Harga = {\n",
    "    \"beras\": 12000,  \n",
    "    \"minyak\": 17000,\n",
    "    \"telur\": 24000, \n",
    "    \"gula\": 15000,\n",
    "    \"Kopi\":20000\n",
    "}\n",
    "\n",
    "total = sum (Harga.values())\n",
    "print (total)"
   ]
  },
  {
   "cell_type": "markdown",
   "id": "05a7982c",
   "metadata": {},
   "source": [
    "\n",
    "4. Fungsi\n",
    "a. Buat fungsi untuk menghitung luas persegi panjang yang\n",
    "mengembalikan nilai luas dan keliling dari persegi panjang.."
   ]
  },
  {
   "cell_type": "code",
   "execution_count": 9,
   "id": "036f3d27",
   "metadata": {},
   "outputs": [
    {
     "name": "stdout",
     "output_type": "stream",
     "text": [
      "Luas persegi panjang adalah 20\n",
      "Keliling persegi panjang adalah 18\n"
     ]
    }
   ],
   "source": [
    "def persegi_panjang (p,l):\n",
    "    luas = p*l\n",
    "    keliling = 2*(p+l)\n",
    "    return luas, keliling\n",
    "\n",
    "luas, keliling = persegi_panjang (5,4)\n",
    "print (\"Luas persegi panjang adalah\", luas)\n",
    "print (\"Keliling persegi panjang adalah\", keliling)"
   ]
  },
  {
   "cell_type": "markdown",
   "id": "30eb7e0e",
   "metadata": {},
   "source": [
    "5. Percabangan\n",
    "a. Minta pengguna memasukkan usia, tampilkan:\n",
    "i. “Anak” jika usia 0-13\n",
    "ii. “Remaja” jika usia 14-24\n",
    "iii. “Dewasa” jika usia 25-49\n",
    "iv. “Lansia” jika usia >50"
   ]
  },
  {
   "cell_type": "code",
   "execution_count": 11,
   "id": "0772edd0",
   "metadata": {},
   "outputs": [
    {
     "name": "stdout",
     "output_type": "stream",
     "text": [
      "Remaja\n"
     ]
    }
   ],
   "source": [
    "usia = 20\n",
    "\n",
    "if 0 <= usia <= 13:\n",
    "    print(\"Anak\")\n",
    "elif 14 <= usia <= 24:\n",
    "    print(\"Remaja\")\n",
    "elif 25 <= usia <= 49:\n",
    "    print(\"Dewasa\")\n",
    "elif usia >= 50:\n",
    "    print(\"Lansia\")\n",
    "else:\n",
    "    print(\"Usia tidak valid\")\n"
   ]
  }
 ],
 "metadata": {
  "kernelspec": {
   "display_name": "base",
   "language": "python",
   "name": "python3"
  },
  "language_info": {
   "codemirror_mode": {
    "name": "ipython",
    "version": 3
   },
   "file_extension": ".py",
   "mimetype": "text/x-python",
   "name": "python",
   "nbconvert_exporter": "python",
   "pygments_lexer": "ipython3",
   "version": "3.9.12"
  }
 },
 "nbformat": 4,
 "nbformat_minor": 5
}
