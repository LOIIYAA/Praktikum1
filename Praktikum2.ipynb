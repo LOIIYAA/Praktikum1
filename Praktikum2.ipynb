{
 "cells": [
  {
   "cell_type": "code",
   "execution_count": 2,
   "id": "48178dac",
   "metadata": {},
   "outputs": [
    {
     "name": "stdout",
     "output_type": "stream",
     "text": [
      "before casting:  456 the data type is <class 'str'>\n",
      "after casting:  456 type data is  <class 'int'>\n"
     ]
    }
   ],
   "source": [
    "str_number = \"456\"\n",
    "str_number_to_int = int (str_number)\n",
    "print (\"before casting: \", str_number , \"the data type is\", type(str_number))\n",
    "print (\"after casting: \", str_number_to_int, \"type data is \", type(str_number_to_int))"
   ]
  },
  {
   "cell_type": "code",
   "execution_count": 3,
   "id": "f00a6dfe",
   "metadata": {},
   "outputs": [
    {
     "name": "stdout",
     "output_type": "stream",
     "text": [
      "before casting:  12345 type data is <class 'int'>\n",
      "after casting:  12345 type data is <class 'str'>\n"
     ]
    }
   ],
   "source": [
    "integer = 12345\n",
    "integer_to_str = str (integer)\n",
    "\n",
    "print (\"before casting: \", integer, \"type data is\", type(integer))\n",
    "print (\"after casting: \", integer_to_str, \"type data is\", type(integer_to_str) )"
   ]
  },
  {
   "cell_type": "code",
   "execution_count": 6,
   "id": "0035050d",
   "metadata": {},
   "outputs": [
    {
     "name": "stdout",
     "output_type": "stream",
     "text": [
      "True <class 'bool'>\n",
      "False <class 'bool'>\n"
     ]
    }
   ],
   "source": [
    "num_int = 1\n",
    "num_bool= bool(num_int)\n",
    "print(num_bool, type(num_bool))\n",
    "\n",
    "num_int = 0 \n",
    "num_bool = bool (num_int)\n",
    "print(num_bool, type(num_bool))"
   ]
  },
  {
   "cell_type": "code",
   "execution_count": 7,
   "id": "6ef1d3be",
   "metadata": {},
   "outputs": [
    {
     "data": {
      "text/plain": [
       "True"
      ]
     },
     "execution_count": 7,
     "metadata": {},
     "output_type": "execute_result"
    }
   ],
   "source": [
    "# Equal to\n",
    "8 == 8\n",
    "# Not equal to\n",
    "8 != 9\n",
    "# Greater than\n",
    "8 > 9\n",
    "# Less than\n",
    "8 < 9\n",
    "# Less than\n",
    "8 <= 9\n",
    "# Less than\n",
    "9 >= 9"
   ]
  },
  {
   "cell_type": "code",
   "execution_count": 8,
   "id": "138a3b24",
   "metadata": {},
   "outputs": [
    {
     "name": "stdout",
     "output_type": "stream",
     "text": [
      "True\n",
      "True\n",
      "False\n"
     ]
    },
    {
     "data": {
      "text/plain": [
       "False"
      ]
     },
     "execution_count": 8,
     "metadata": {},
     "output_type": "execute_result"
    }
   ],
   "source": [
    "a = True\n",
    "b = True\n",
    "print(a and b)\n",
    "print(a or b)\n",
    "print(not b)\n",
    "#logic\n",
    "5 > 6 and 6 < 7"
   ]
  },
  {
   "cell_type": "code",
   "execution_count": 9,
   "id": "9b993401",
   "metadata": {},
   "outputs": [
    {
     "name": "stdout",
     "output_type": "stream",
     "text": [
      "The sum of e with f is : 10\n",
      "\n",
      "The reduction of e with f is : 6\n",
      "\n",
      "The multipication of e with f is : 16\n",
      "\n",
      "The quotient of e with f is : 4.0\n",
      "\n",
      "The remainder of e with f is : 0\n",
      "\n",
      "The power of e of f is : 64\n",
      "\n"
     ]
    }
   ],
   "source": [
    "e = 8\n",
    "f = 2\n",
    "# Summation\n",
    "sum = e + f\n",
    "print(f\"The sum of e with f is : {sum}\\n\")\n",
    "# Reduction\n",
    "red = e - f\n",
    "print(f\"The reduction of e with f is : {red}\\n\")\n",
    "\n",
    "# Multiplication\n",
    "multi = e * f\n",
    "print(f\"The multipication of e with f is : {multi}\\n\")\n",
    "# Division\n",
    "divi = e / f\n",
    "print(f\"The quotient of e with f is : {divi}\\n\")\n",
    "# Modulo\n",
    "mod = e % f\n",
    "print(f\"The remainder of e with f is : {mod}\\n\")\n",
    "# Power\n",
    "pow = e ** f\n",
    "print(f\"The power of e of f is : {pow}\\n\")"
   ]
  },
  {
   "cell_type": "code",
   "execution_count": 12,
   "id": "1b37056e",
   "metadata": {},
   "outputs": [
    {
     "name": "stdout",
     "output_type": "stream",
     "text": [
      "Name:  Loi\n",
      "Age:  14\n"
     ]
    }
   ],
   "source": [
    "name = \"Loi\"\n",
    "age = 14\n",
    "print(\"Name: \", name)\n",
    "print(\"Age: \", age)"
   ]
  },
  {
   "cell_type": "code",
   "execution_count": 13,
   "id": "6928fa2d",
   "metadata": {},
   "outputs": [
    {
     "name": "stdout",
     "output_type": "stream",
     "text": [
      "Hi all! I am Loi age 14 years old\n",
      "Hi all! I am Loi age 14 years old\n",
      "Hi all! I am Loi age 14 years old\n",
      "==============================\n",
      "Temperature Calculator Program\n",
      "==============================\n"
     ]
    }
   ],
   "source": [
    "# normal print\n",
    "print('Hi all! I am', name, 'age', age, 'years old')\n",
    "\n",
    "# format print\n",
    "print(f'Hi all! I am {name} age {age} years old')\n",
    "\n",
    "# format print\n",
    "print(f'Hi all! I am %s age %d years old'%(name, age))\n",
    "# fortmat output\n",
    "print(30*\"=\")\n",
    "print(\"Temperature Calculator Program\")\n",
    "print(30*\"=\")"
   ]
  }
 ],
 "metadata": {
  "kernelspec": {
   "display_name": "base",
   "language": "python",
   "name": "python3"
  },
  "language_info": {
   "codemirror_mode": {
    "name": "ipython",
    "version": 3
   },
   "file_extension": ".py",
   "mimetype": "text/x-python",
   "name": "python",
   "nbconvert_exporter": "python",
   "pygments_lexer": "ipython3",
   "version": "3.9.12"
  }
 },
 "nbformat": 4,
 "nbformat_minor": 5
}
